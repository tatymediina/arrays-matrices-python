{
 "cells": [
  {
   "cell_type": "code",
   "execution_count": 5,
   "metadata": {},
   "outputs": [
    {
     "name": "stdout",
     "output_type": "stream",
     "text": [
      "\n",
      "Ingresando datos de la persona 1:\n",
      "\n",
      "Ingresando datos de la persona 2:\n",
      "\n",
      "Listado de personas ingresadas:\n",
      "Nombre: julia Edad: 17 Nota: 7.0\n",
      "Nombre: maria Edad: 35 Nota: 10.0\n",
      "\n",
      "Listado ordenado por nota de mayor a menor:\n",
      "Nombre: maria, Edad: 35, Nota: 10.0\n",
      "Nombre: julia, Edad: 17, Nota: 7.0\n"
     ]
    }
   ],
   "source": [
    "import operator  # * Importamos el módulo operator para facilitar la ordenación\n",
    "\n",
    "# * Lista principal donde se almacenarán los datos de las personas\n",
    "datos_personas = []\n",
    "\n",
    "# * Se solicita el número de personas a registrar y se alamacenan en una variable\n",
    "num_personas = int(input(\"Ingrese la cantidad de personas a registrar: \"))\n",
    "\n",
    "# * Se crea un bucle para registrar los datos de cada persona\n",
    "for i in range(num_personas): # * itera sobre la cantidad de personas\n",
    "    print(f\"\\nIngresando datos de la persona {i + 1}:\") # * Se suma 1 al contador i para que muestre el número de la persona\n",
    "    nombre = input(\"Nombre completo: \")  # * Se pide el nombre\n",
    "    edad = int(input(\"Edad: \"))  # * Se pide la edad\n",
    "    nota = float(input(\"Nota: \"))  # * Se pide la nota\n",
    "    \n",
    "    # * Agrega la información a la lista principal\n",
    "    datos_personas.append([nombre, edad, nota])\n",
    "\n",
    "# * Muestra la lista tal como fue ingresada\n",
    "print(\"\\nListado de personas ingresadas:\")\n",
    "for persona in datos_personas: # * itera sobre la lista\n",
    "    print(f\"Nombre: {persona[0]} Edad: {persona[1]} Nota: {persona[2]}\")\n",
    "\n",
    "# * Ordena la lista por la nota en orden descendente\n",
    "personas_ordenadas = sorted(datos_personas, key=operator.itemgetter(2), reverse=True) \n",
    "# ! operator.itemgetter(2) indica que queremos acceder al tercer elemento de cada sublista o tupla\n",
    "# ! reverse=True la lista se ordenará en orden descendente (de mayor a menor)\n",
    "\n",
    "# * Muestra la lista ordenada por nota\n",
    "print(\"\\nListado ordenado por nota de mayor a menor:\")\n",
    "for persona in personas_ordenadas:\n",
    "    print(f\"Nombre: {persona[0]}, Edad: {persona[1]}, Nota: {persona[2]}\")\n"
   ]
  }
 ],
 "metadata": {
  "kernelspec": {
   "display_name": "Python 3",
   "language": "python",
   "name": "python3"
  },
  "language_info": {
   "codemirror_mode": {
    "name": "ipython",
    "version": 3
   },
   "file_extension": ".py",
   "mimetype": "text/x-python",
   "name": "python",
   "nbconvert_exporter": "python",
   "pygments_lexer": "ipython3",
   "version": "3.13.2"
  }
 },
 "nbformat": 4,
 "nbformat_minor": 2
}
